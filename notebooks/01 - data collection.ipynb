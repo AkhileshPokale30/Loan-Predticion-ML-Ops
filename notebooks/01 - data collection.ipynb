{
 "cells": [
  {
   "cell_type": "markdown",
   "id": "d69a2b59-3729-4285-b6aa-ef2b77a7556d",
   "metadata": {},
   "source": [
    "## Monitoring ML Training Pipeline: Data Extraction\n",
    "\n",
    "**Purpose**: This notebook focuses on extracting data from a PostgreSQL database and saving it locally.\n",
    "\n",
    "**Note**: If you do not have data in PostgreSQL, you can skip this step and use preloaded data from the data folder.\n",
    "\n",
    "**Objective**: The main objective is to build a classification model for loan eligibility, determining whether a loan should be approved or rejected.\n",
    "\n",
    "**Data Sources**:\n",
    "\n",
    "- customer_details\n",
    "- credit_details\n",
    "- loan_details\n",
    "\n",
    "**Data Quality Challenges**:\n",
    "\n",
    "- Duplication\n",
    "- Date format\n",
    "\n",
    "---\n",
    "\n",
    "## Prerequisite Tools\n",
    "\n",
    "To perform this task, you will need the following tools:\n",
    "\n",
    "- PostgreSQL\n",
    "- SQLAlchemy\n",
    "\n",
    "---\n",
    "\n",
    "## Queries\n",
    "\n",
    "All the necessary SQL queries are conveniently stored in a single script, `src/queries.py`, for easy reference and execution.\n",
    "\n",
    "---\n"
   ]
  },
  {
   "cell_type": "code",
   "execution_count": 1,
   "id": "ca05f161-b569-4511-9885-5a8bdd84dc45",
   "metadata": {},
   "outputs": [],
   "source": [
    "CREATE_TEMP_TABLE_LOAN = \"\"\"\n",
    "    create temp table loan as (\n",
    "        select \n",
    "            lower(t1.loan_id) loan_id,\n",
    "            lower(t1.customer_id) customer_id,\n",
    "            lower(t1.loan_status) loan_status,\n",
    "            cast(concat(split_part(t1.application_time, '-', 2), '-', split_part(t1.application_time, '-', 1), '-', split_part(t1.application_time, '-', 3)) as timestamp) application_time,\n",
    "            t1.current_loan_amount,\n",
    "            lower(t1.term) term,\n",
    "            t1.tax_liens,\n",
    "            lower(t1.purpose) purpose,\n",
    "            t1.no_of_properties \n",
    "        from (\n",
    "            select \n",
    "                row_number() over(partition by loan_id order by application_time desc) rnk,\n",
    "                ld.*\n",
    "            from (\n",
    "                select distinct * \n",
    "                from loan_details \n",
    "                where cast(concat(split_part(application_time, '-', 2), '-', split_part(application_time, '-', 1), '-', split_part(application_time, '-', 3)) as timestamp) between '{start_date}' and '{end_date}') ld\n",
    "        ) t1\n",
    "        where rnk=1\n",
    "    );\n",
    "\"\"\"\n",
    "\n",
    "CREATE_TEMP_TABLE_CUSTOMER = \"\"\"\n",
    "    create temp table customer as (\n",
    "        select t2.* \n",
    "        from (\n",
    "            select customer_id, count(*) cnt from (select distinct * from customer_details) cd \n",
    "            group by customer_id \n",
    "        ) t1 \n",
    "        join (select distinct * from customer_details) t2\n",
    "        on t2.customer_id = t1.customer_id\n",
    "        where t1.cnt=1\n",
    "    );\n",
    "\"\"\"\n",
    "\n",
    "CREATE_TEMP_TABLE_CREDIT = \"\"\"\n",
    "    create temp table credit as (\n",
    "        select t2.* \n",
    "        from (\n",
    "            select customer_id, count(*) cnt from (select distinct * from credit_details) cd \n",
    "            group by customer_id \n",
    "        ) t1 \n",
    "        join (select distinct * from credit_details) t2\n",
    "        on t2.customer_id = t1.customer_id\n",
    "        where t1.cnt=1\n",
    "    );\n",
    "\"\"\"\n",
    "\n",
    "GET_DATA = \"\"\"\n",
    "    select \n",
    "        t1.loan_id, t1.customer_id, t1.loan_status, t1.application_time, t1.current_loan_amount, t1.term, t1.tax_liens, t1.purpose, t1.no_of_properties,\n",
    "        lower(t2.home_ownership) home_ownership, t2.annual_income, lower(t2.years_in_current_job) years_in_current_job, t2.months_since_last_delinquent, t2.no_of_cars, t2.no_of_children,\n",
    "        t3.credit_score, t3.monthly_debt, t3.years_of_credit_history, t3.no_of_open_accounts, t3.no_of_credit_problems, t3.current_credit_balance, t3.max_open_credit, t3.bankruptcies\n",
    "    from loan t1\n",
    "    left join customer t2\n",
    "    on t2.customer_id = t1.customer_id\n",
    "    left join credit t3\n",
    "    on t3.customer_id = t2.customer_id\n",
    "\"\"\""
   ]
  },
  {
   "cell_type": "markdown",
   "id": "879fed0d-1bc4-4c55-a9c8-726a8caece57",
   "metadata": {},
   "source": [
    "## Getting the data\n",
    "\n",
    "1. Create connection to the data -> available in script `src/helpers.py`\n",
    "\n",
    "2. Create temporarly tables -> available in script `src/etl.py`\n",
    "\n",
    "3. Get the data from joined temporarly tables -> available in script `src/etl.py`\n",
    "\n"
   ]
  },
  {
   "cell_type": "code",
   "execution_count": null,
   "id": "cda0611a-4923-45c6-a472-4abbcec697ab",
   "metadata": {},
   "outputs": [],
   "source": [
    "import datetime\n",
    "import sys\n",
    "import os\n",
    "import json\n",
    "import pandas as pd\n",
    "from sqlalchemy import create_engine\n",
    "from sqlalchemy.sql import text\n",
    "from importlib import reload\n",
    "\n",
    "sys.path.append(os.path.join(os.path.dirname(os.getcwd()), 'dags', 'src'))\n",
    "\n",
    "# Make sure you have SQL Credentials.json stored in dags folder\n",
    "import helpersa\n",
    "import config\n",
    "import queries"
   ]
  },
  {
   "cell_type": "code",
   "execution_count": 2,
   "id": "dd9437b9-19ad-4f58-8efc-265ab1b8c974",
   "metadata": {},
   "outputs": [],
   "source": [
    "#### helpers.py methods ####\n",
    "\n",
    "def save_dataset(df: pd.DataFrame, path: str):\n",
    "    \"\"\"\n",
    "    Save data set.\n",
    "    :param df: DataFrame - The data to be saved.\n",
    "    :param path: str - The file path to save the data.\n",
    "    :return: None\n",
    "    \"\"\"\n",
    "    df.to_csv(path, index=False)  # Save DataFrame to a CSV file without including the index.\n",
    "    print(f\"[INFO] Dataset saved to {path}\")  # Print a message confirming the dataset has been saved.\n"
   ]
  },
  {
   "cell_type": "code",
   "execution_count": 5,
   "id": "dcb98e2b",
   "metadata": {},
   "outputs": [
    {
     "name": "stdout",
     "output_type": "stream",
     "text": [
      "Collecting psycopg2\n",
      "  Using cached psycopg2-2.9.3-cp38-cp38-win_amd64.whl (1.1 MB)\n",
      "Installing collected packages: psycopg2\n",
      "Successfully installed psycopg2-2.9.3\n",
      "Note: you may need to restart the kernel to use updated packages.\n"
     ]
    }
   ],
   "source": [
    "%pip install psycopg2\n",
    "import psycopg2"
   ]
  },
  {
   "cell_type": "code",
   "execution_count": 6,
   "id": "654502a9-80ae-45e0-bbe2-61abe2278939",
   "metadata": {},
   "outputs": [],
   "source": [
    "# Load credentials from a JSON file.\n",
    "credentials = json.load(open(config.PATH_TO_CREDENTIALS, 'r'))\n",
    "\n",
    "# Create a PostgreSQL database engine using the loaded credentials.\n",
    "engine = create_engine(f\"postgresql://{credentials['user']}:{credentials['password']}@{credentials['host']}:{credentials['port']}/{credentials['database']}\")\n"
   ]
  },
  {
   "cell_type": "code",
   "execution_count": 7,
   "id": "36794cc4-dd1b-472e-a7e7-a416bbdb5493",
   "metadata": {},
   "outputs": [],
   "source": [
    "def extract_data(start_date: datetime.date, end_date: datetime.date = datetime.date.today()) -> pd.DataFrame:\n",
    "    \"\"\"\n",
    "    Extracts data from the database and returns it as a pandas dataframe.\n",
    "    Queries are to be defined in the `queries.py` file.\n",
    "    :param start_date: start date of the data to be extracted\n",
    "    :param end_date: end date of the data to be extracted (defaults to today)\n",
    "    :return: pandas dataframe\n",
    "    \"\"\"\n",
    "    assert start_date <= end_date, \"start_date must be less than end_date\"\n",
    "    print(\"[INFO] Extracting data from the database since {0} to {1} ...\".format(start_date, end_date))\n",
    "    \n",
    "    # Dropping temporary tables and creating them\n",
    "    engine.execute(text(\"\"\"drop table if exists customer;\"\"\").execution_options(autocommit=True))\n",
    "    engine.execute(text(queries.CREATE_TEMP_TABLE_CUSTOMER).execution_options(autocommit=True))\n",
    "    engine.execute(text(\"\"\"drop table if exists loan;\"\"\").execution_options(autocommit=True))\n",
    "    engine.execute(text(queries.CREATE_TEMP_TABLE_LOAN.format(start_date=start_date, end_date=end_date)).execution_options(autocommit=True))\n",
    "    engine.execute(text(\"\"\"drop table if exists credit;\"\"\").execution_options(autocommit=True))\n",
    "    engine.execute(text(queries.CREATE_TEMP_TABLE_CREDIT).execution_options(autocommit=True))\n",
    "    \n",
    "    # Reading data from the database\n",
    "    df = pd.read_sql(text(queries.GET_DATA), engine)\n",
    "    return df\n",
    "\n",
    "def collect_data(start_date: datetime.date, end_date: datetime.date = datetime.date.today(), job_id: str = None):\n",
    "    \"\"\"\n",
    "    Collects data from the database and dumps them in the directory of raw data `config.PATH_DIR_DATA`.\n",
    "    :param start_date: start date of the data to be extracted\n",
    "    :param end_date: end date of the data to be extracted (defaults to today)\n",
    "    :param job_id: job id of the data to be extracted\n",
    "    \"\"\"\n",
    "    assert isinstance(start_date, datetime.date)\n",
    "    assert isinstance(end_date, datetime.date)\n",
    "    assert isinstance(job_id, str)\n",
    "    assert start_date <= end_date\n",
    "    size = 0\n",
    "\n",
    "    # Extracting data\n",
    "    df = extract_data(start_date, end_date)\n",
    "    size = df.shape[0]\n",
    "    \n",
    "    # Generating the filename for the raw data\n",
    "    filename = os.path.join(config.PATH_DIR_DATA, \"raw\", f\"{job_id}_\" + start_date.strftime(\"%Y-%m-%d\") + \"_\" + end_date.strftime(\"%Y-%m-%d\") + \".csv\")\n",
    "    \n",
    "    # Saving the dataset to the generated filename\n",
    "    helpers.save_dataset(df, filename)\n",
    "    return filename\n"
   ]
  },
  {
   "cell_type": "code",
   "execution_count": 10,
   "id": "7e6a7fd4-ba15-418f-892c-0721847a40f3",
   "metadata": {},
   "outputs": [
    {
     "name": "stdout",
     "output_type": "stream",
     "text": [
      "job Id: aa4c3eaadb02409281b589829e3c9370\n",
      "[INFO] Extracting data from the database since 2015-06-01 to 2015-12-31 ...\n",
      "[INFO] Dataset saved to ../dags/data\\raw\\aa4c3eaadb02409281b589829e3c9370_2015-06-01_2015-12-31.csv\n",
      "../dags/data\\raw\\aa4c3eaadb02409281b589829e3c9370_2015-06-01_2015-12-31.csv\n"
     ]
    }
   ],
   "source": [
    "# Generate a unique job ID using a helper function.\n",
    "job_id = helpers.generate_uuid()\n",
    "\n",
    "# Define start and end dates for data collection.\n",
    "start_date = datetime.date(2015, 1, 1)\n",
    "end_date = datetime.date(2015, 5, 31)\n",
    "\n",
    "# Print the generated job ID.\n",
    "print(\"job Id:\", job_id)\n",
    "\n",
    "# Collect data within the specified date range and save it to a CSV file.\n",
    "print(collect_data(start_date, end_date, job_id))\n"
   ]
  },
  {
   "cell_type": "markdown",
   "id": "a6082044",
   "metadata": {},
   "source": [
    "---"
   ]
  },
  {
   "cell_type": "code",
   "execution_count": null,
   "id": "9cb7a048-ee33-42b4-9e24-c9330da7103c",
   "metadata": {},
   "outputs": [],
   "source": []
  }
 ],
 "metadata": {
  "kernelspec": {
   "display_name": "Python 3.8.8 64-bit ('Anaconda3')",
   "language": "python",
   "name": "python3"
  },
  "language_info": {
   "codemirror_mode": {
    "name": "ipython",
    "version": 3
   },
   "file_extension": ".py",
   "mimetype": "text/x-python",
   "name": "python",
   "nbconvert_exporter": "python",
   "pygments_lexer": "ipython3",
   "version": "3.8.8"
  },
  "vscode": {
   "interpreter": {
    "hash": "9054e5812adb29eebbcd6b680e8ef1afc4fe6e00a75ff130e735bd95b5b32301"
   }
  }
 },
 "nbformat": 4,
 "nbformat_minor": 5
}
